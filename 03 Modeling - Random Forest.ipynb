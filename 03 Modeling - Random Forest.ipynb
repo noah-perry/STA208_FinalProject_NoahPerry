{
 "cells": [
  {
   "cell_type": "markdown",
   "id": "0932e351",
   "metadata": {},
   "source": [
    "## Predictive Modeling of Cryptocurrency Prices\n",
    "STA 208 - Spring 2021  \n",
    "Group: Noah Perry"
   ]
  },
  {
   "cell_type": "code",
   "execution_count": 4,
   "id": "134e7540",
   "metadata": {},
   "outputs": [],
   "source": [
    "import math\n",
    "import numpy as np\n",
    "import os\n",
    "import pandas as pd\n",
    "import matplotlib.pyplot as plt\n",
    "from sklearn import model_selection, ensemble\n",
    "\n",
    "os.chdir(\"C:/Users/noahj/Documents/UCD/2021 Spring Classes/STA 208/Project/STA208_FinalProject_NoahPerry/Data\")\n",
    "main = pd.read_pickle(\"main.pkl\")"
   ]
  },
  {
   "cell_type": "markdown",
   "id": "1cc7ea13",
   "metadata": {},
   "source": [
    "**Model: Random Forest**  \n",
    "The second kind of model I test is random forest regression. I use the same nested cross validation method and performance metric as used for vector autoregression. Each model includes 1, 2, and 7 lags of log differenced Bitcoin and Ethereum prices as well as lags of log differenced price of the cryptocurrency that is the target (either Cardano or Monero).\n",
    "\n",
    "As shown below, the random forest models involving the weekly and biweekly log differenced prices are the best performing models of all models testing for this project, correctly predict the sign of future price movements over 80 percent of the time for both Cardano and Monero.\n",
    "\n",
    "*Note:* Each random forest model takes several minutes to run."
   ]
  },
  {
   "cell_type": "code",
   "execution_count": 30,
   "id": "85cd7df6",
   "metadata": {},
   "outputs": [],
   "source": [
    "def rand_forest(features, target, lag_list):\n",
    "    \"\"\"\n",
    "    features: features variables\n",
    "    target: target variable\n",
    "    lag_list: lags of features and target variables to include in model\n",
    "    \"\"\"\n",
    "    varlist = features + [target]\n",
    "    data = main[varlist]\n",
    "    \n",
    "    # Calculate lags and add all lags of features and target to X\n",
    "    data2 = pd.DataFrame()\n",
    "    for L in lag_list:\n",
    "        data2[(target + \"_lag\" + str(L))] = data[target].shift(L)\n",
    "        for f in features:\n",
    "            data2[(f + \"_lag\" + str(L))] = data[f].shift(L) \n",
    "    \n",
    "    data2[target] = data[target]\n",
    "        # temporarily include target in data2 for dropping NA's\n",
    "    \n",
    "    # Restrict data to feature/target with shortest time series\n",
    "    data2 = data2.dropna(axis = 0)\n",
    "    \n",
    "    # Reset index for TimeSeriesSplit()\n",
    "    data2 = data2.reset_index(drop = True)\n",
    "    \n",
    "    # Define y and X\n",
    "    y = data2[target]\n",
    "    X = data2.drop(labels = target, axis = 1)\n",
    "        # only include lags of target and features in X\n",
    "    \n",
    "    model = ensemble.RandomForestRegressor(criterion = \"mae\")\n",
    "        # using Mean Absolute Error due to use case of investing -> mae is closer to a profitability measure than mse\n",
    "        # using defaults otherwise\n",
    "    \n",
    "    # Back testing / cross validation\n",
    "    splits = math.floor(X.shape[0] / 14)\n",
    "    tscv_results = pd.DataFrame()\n",
    "    tscv = model_selection.TimeSeriesSplit(n_splits = splits)\n",
    "    for train_index, test_index in tscv.split(X):\n",
    "        # Construct training and test sets\n",
    "        X_tr, X_te = X.iloc[train_index,], X.iloc[test_index,]\n",
    "        y_tr, y_te = y[train_index], y[test_index]\n",
    "        \n",
    "        # Fit vector autoregression model\n",
    "        model.fit(X_tr, y_tr)\n",
    "        \n",
    "        # Make predictions\n",
    "        pred = model.predict(X_te)\n",
    "    \n",
    "        # Performance metric: percent of predicted signs that match actual sign\n",
    "        c = [\"pred_\" + target]\n",
    "        pred_df = pd.DataFrame(pred, columns = c)  \n",
    "        pred_df = pred_df.set_index(y_te.index)\n",
    "        \n",
    "        comparison = pred_df.merge(y_te, left_index = True, right_index = True)\n",
    "        \n",
    "        comparison[\"pred_sign_\" + target] = np.where(comparison[\"pred_\" + target] >= 0, \"positive\", \"negative\")\n",
    "        comparison[\"actual_sign_\" + target] = np.where(comparison[target] >= 0, \"positive\", \"negative\")\n",
    "        comparison[\"same_sign_\" + target] = (comparison[\"pred_sign_\" + target] == comparison[\"actual_sign_\" + target]).astype(int)\n",
    "\n",
    "        tscv_results = tscv_results.append(comparison)\n",
    "        \n",
    "    return(tscv_results)"
   ]
  },
  {
   "cell_type": "markdown",
   "id": "8b66675d",
   "metadata": {},
   "source": [
    "**Monero Models**"
   ]
  },
  {
   "cell_type": "code",
   "execution_count": 32,
   "id": "61dc385b",
   "metadata": {},
   "outputs": [
    {
     "name": "stdout",
     "output_type": "stream",
     "text": [
      "Proportion Correct:  0.5048951048951049\n"
     ]
    }
   ],
   "source": [
    "# Random forest with daily log differenced Monero price and 1, 2, and 7 lags of each feature and target variable\n",
    "rf_xmr1 = rand_forest([\"logdif_XBT\", \"logdif_ETH\"], \"logdif_XMR\", lag_list = [1,2,7])\n",
    "print(\"Proportion of Signs Predicted Correct: \",(rf_xmr1[\"same_sign_logdif_XMR\"] == 1).sum() / rf_xmr1.shape[0])"
   ]
  },
  {
   "cell_type": "code",
   "execution_count": 33,
   "id": "42a250f8",
   "metadata": {},
   "outputs": [
    {
     "name": "stdout",
     "output_type": "stream",
     "text": [
      "Proportion Correct:  0.8108680310515173\n"
     ]
    }
   ],
   "source": [
    "# Random forest with weekly log differenced Monero price and 1, 2, and 7 lags of each feature and target variable\n",
    "rf_xmr7 = rand_forest([\"logdif7_XBT\", \"logdif7_ETH\"], \"logdif7_XMR\", lag_list = [1,2,7])\n",
    "print(\"Proportion Correct: \",(rf_xmr7[\"same_sign_logdif7_XMR\"] == 1).sum() / rf_xmr7.shape[0])"
   ]
  },
  {
   "cell_type": "code",
   "execution_count": 34,
   "id": "72e2a211",
   "metadata": {},
   "outputs": [
    {
     "name": "stdout",
     "output_type": "stream",
     "text": [
      "Proportion Correct:  0.8750882145377559\n"
     ]
    }
   ],
   "source": [
    "# Random forest with biweekly log differenced Monero price and 1, 2, and 7 lags of each feature and target variable\n",
    "rf_xmr14 = rand_forest([\"logdif14_XBT\", \"logdif14_ETH\"], \"logdif14_XMR\", lag_list = [1,2,7])\n",
    "print(\"Proportion Correct: \",(rf_xmr14[\"same_sign_logdif14_XMR\"] == 1).sum() / rf_xmr14.shape[0])"
   ]
  },
  {
   "cell_type": "markdown",
   "id": "535e0310",
   "metadata": {},
   "source": [
    "**Cardano Models**"
   ]
  },
  {
   "cell_type": "code",
   "execution_count": 35,
   "id": "fc92b23d",
   "metadata": {},
   "outputs": [
    {
     "name": "stdout",
     "output_type": "stream",
     "text": [
      "Proportion Correct:  0.5144230769230769\n"
     ]
    }
   ],
   "source": [
    "# Random forest with daily log differenced Cardano price and 1, 2, and 7 lags of each feature and target variable\n",
    "rf_ada1 = rand_forest([\"logdif_XBT\", \"logdif_ETH\"], \"logdif_ADA\", lag_list = [1,2,7])\n",
    "print(\"Proportion Correct: \",(rf_ada1[\"same_sign_logdif_ADA\"] == 1).sum() / rf_ada1.shape[0])"
   ]
  },
  {
   "cell_type": "code",
   "execution_count": 36,
   "id": "0d8277d3",
   "metadata": {},
   "outputs": [
    {
     "name": "stdout",
     "output_type": "stream",
     "text": [
      "Proportion Correct:  0.8016826923076923\n"
     ]
    }
   ],
   "source": [
    "# Random forest with weekly log differenced Cardano price and 1, 2, and 7 lags of each feature and target variable\n",
    "rf_ada7 = rand_forest([\"logdif7_XBT\", \"logdif7_ETH\"], \"logdif7_ADA\", lag_list = [1,2,7])\n",
    "print(\"Proportion Correct: \",(rf_ada7[\"same_sign_logdif7_ADA\"] == 1).sum() / rf_ada7.shape[0])"
   ]
  },
  {
   "cell_type": "code",
   "execution_count": 39,
   "id": "84502eb3",
   "metadata": {},
   "outputs": [
    {
     "name": "stdout",
     "output_type": "stream",
     "text": [
      "Proportion Correct:  0.873015873015873\n"
     ]
    }
   ],
   "source": [
    "# Random forest with biweekly log differenced Cardano price and 1, 2, and 7 lags of each feature and target variable\n",
    "rf_ada14 = rand_forest([\"logdif14_XBT\", \"logdif14_ETH\"], \"logdif14_ADA\", lag_list = [1,2,7])\n",
    "print(\"Proportion Correct: \",(rf_ada14[\"same_sign_logdif14_ADA\"] == 1).sum() / rf_ada14.shape[0])"
   ]
  },
  {
   "cell_type": "code",
   "execution_count": null,
   "id": "3267c64b",
   "metadata": {},
   "outputs": [],
   "source": []
  }
 ],
 "metadata": {
  "kernelspec": {
   "display_name": "Python 3",
   "language": "python",
   "name": "python3"
  },
  "language_info": {
   "codemirror_mode": {
    "name": "ipython",
    "version": 3
   },
   "file_extension": ".py",
   "mimetype": "text/x-python",
   "name": "python",
   "nbconvert_exporter": "python",
   "pygments_lexer": "ipython3",
   "version": "3.8.3"
  }
 },
 "nbformat": 4,
 "nbformat_minor": 5
}
