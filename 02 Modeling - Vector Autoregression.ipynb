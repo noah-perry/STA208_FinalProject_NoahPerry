{
 "cells": [
  {
   "cell_type": "markdown",
   "id": "ef87734d",
   "metadata": {},
   "source": [
    "## Predictive Modeling of Cryptocurrency Prices\n",
    "STA 208 - Spring 2021  \n",
    "Group: Noah Perry"
   ]
  },
  {
   "cell_type": "code",
   "execution_count": 2,
   "id": "814e933c",
   "metadata": {},
   "outputs": [],
   "source": [
    "import math\n",
    "import numpy as np\n",
    "import os\n",
    "import pandas as pd\n",
    "import matplotlib.pyplot as plt\n",
    "from sklearn import linear_model, model_selection\n",
    "from statsmodels.tsa.api import VAR\n",
    "\n",
    "os.chdir(\"C:/Users/noahj/Documents/UCD/2021 Spring Classes/STA 208/Project/STA208_FinalProject_NoahPerry/Data\")\n",
    "main = pd.read_pickle(\"main.pkl\")"
   ]
  },
  {
   "cell_type": "markdown",
   "id": "3a0beccb",
   "metadata": {},
   "source": [
    "**Model: Vector Autoregression**  \n",
    "The first kind of model that I test is vector autoregression. As shown in the code below, I evaluate the performance of each model through nested cross validation, where the training set only includes observations that occur prior to the observations in the test set. Each test set contains approximately two weeks of data. Then, I define a simplistic performance metric of whether the model correctly predicts the sign of price movements. This is tied to the use case of investing in cryptocurrency because a model that can correctly predict whether the price will increase or decrease would help a investor decide whether to buy, sell, short sell, etc. a particularly cryptocurrency on a given day. \n",
    "\n",
    "As described below, the model containing the daily log difference of the prices performs no better than flipping a coin to guess whether the prices will increase or decrease. However, the predictive performance improves for the weekly log differenced prices and is even better for the biweekly log differenced prices, reaching accuracy over 70 percent in some models."
   ]
  },
  {
   "cell_type": "code",
   "execution_count": 3,
   "id": "811ff987",
   "metadata": {},
   "outputs": [],
   "source": [
    "def vec_ar(varlist, lags, perf_varlist):\n",
    "    \"\"\"\n",
    "    varlist: variables to be used in vector autoregression\n",
    "    lags: number of lags of each variable\n",
    "    perf_varlist: variables for which the performance metric will be calculated\n",
    "    \"\"\"\n",
    "    data = main[varlist]\n",
    "        \n",
    "    # Restrict data to feature/target with shortest time series\n",
    "    data = data.dropna(axis = 0)\n",
    "    \n",
    "    # Reset index for TimeSeriesSplit()\n",
    "    data = data.reset_index(drop = True)\n",
    "\n",
    "    # Back testing / cross validation    \n",
    "    splits = math.floor(data.shape[0]/14)\n",
    "        # Each test set to contain around 14 data points\n",
    "    tscv_results = pd.DataFrame()\n",
    "    tscv = model_selection.TimeSeriesSplit(n_splits = splits)\n",
    "    for train_index, test_index in tscv.split(data):\n",
    "        # Construct training and test sets\n",
    "        data_tr, data_te = data.iloc[train_index,], data.iloc[test_index,]\n",
    "        \n",
    "        # Fit vector autoregression model\n",
    "        model = VAR(data_tr)   \n",
    "        results = model.fit(lags)\n",
    "        \n",
    "        # Make predictions\n",
    "        pred = results.forecast(results.endog, steps = data_te.shape[0])\n",
    "             \n",
    "        # Performance metric: percent of predicted signs that match actual sign\n",
    "        c = [\"pred_\" + v for v in varlist]\n",
    "        pred_df = pd.DataFrame(pred, columns = c)  \n",
    "        pred_df = pred_df.set_index(data_te.index)\n",
    "        \n",
    "        comparison = pred_df.merge(data_te, left_index = True, right_index = True)\n",
    "        \n",
    "        # Loop over all variables in perf_varlist and calculate performance metrics for each one\n",
    "        for p in perf_varlist:\n",
    "            comparison[\"pred_sign_\" + p] = np.where(comparison[\"pred_\" + p] >= 0, \"positive\", \"negative\")\n",
    "            comparison[\"actual_sign_\" + p] = np.where(comparison[p] >= 0, \"positive\", \"negative\")\n",
    "            comparison[\"same_sign_\" + p] = (comparison[\"pred_sign_\" + p] == comparison[\"actual_sign_\" + p]).astype(int)\n",
    "\n",
    "        tscv_results = tscv_results.append(comparison)\n",
    "        \n",
    "    return(tscv_results)"
   ]
  },
  {
   "cell_type": "markdown",
   "id": "e9f7a94b",
   "metadata": {},
   "source": [
    "------------\n",
    "**Set 1:** The first set of vector autoregression models that I test include the daily log differenced prices for Cardano (ADA), Monero (XMR), Bitcoin (XBT), and Ethereum (ETH) with 1, 2, 7, 14, and 30 lags of each variable. As shown in the table and chart below, I find that each model in this set correctly predicts the sign about 50 percent of the time, which is basically no better than guessing by flipping a coin. \n",
    "\n",
    "I also plotted histograms of the predicted prices for Cardano and Monero for the models with daily log differenced prices and 1 lag of each variable. These histograms reveal that the model predicts daily log differenced prices of essentially 0 for the vast majority of observations. Since the price chart of the daily log differenced prices appeared to be random noise around 0 and the autocorrelation plot showed very little correlation in the daily change in price, this result is not surprising."
   ]
  },
  {
   "cell_type": "code",
   "execution_count": 17,
   "id": "10c68b05",
   "metadata": {},
   "outputs": [],
   "source": [
    "# Vector autoregression models including daily log differenced ADA, XMR, XBT, and ETH prices with 1, 2, 7, 14, and 30 lags\n",
    "vec_ar1 = []\n",
    "vec_ar1_perf_ADA = []\n",
    "vec_ar1_perf_XMR = []\n",
    "vec_ar1_perf_ETH = []\n",
    "vec_ar1_perf_XBT = []\n",
    "counter = 0\n",
    "for i in [1,2,7,14,30]:\n",
    "    vec_ar1 = vec_ar1 + [vec_ar([\"logdif_ADA\", \"logdif_XMR\", \"logdif_XBT\", \"logdif_ETH\"], i, [\"logdif_ADA\", \"logdif_XMR\", \"logdif_XBT\", \"logdif_ETH\"])]\n",
    "    vec_ar1_perf_ADA = vec_ar1_perf_ADA + [(vec_ar1[counter][\"same_sign_logdif_ADA\"] == 1).sum() / vec_ar1[0].shape[0]]\n",
    "    vec_ar1_perf_XMR = vec_ar1_perf_XMR + [(vec_ar1[counter][\"same_sign_logdif_XMR\"] == 1).sum() / vec_ar1[0].shape[0]]\n",
    "    vec_ar1_perf_ETH = vec_ar1_perf_ETH + [(vec_ar1[counter][\"same_sign_logdif_ETH\"] == 1).sum() / vec_ar1[0].shape[0]]\n",
    "    vec_ar1_perf_XBT = vec_ar1_perf_XBT + [(vec_ar1[counter][\"same_sign_logdif_XBT\"] == 1).sum() / vec_ar1[0].shape[0]]    \n",
    "    counter = counter + 1"
   ]
  },
  {
   "cell_type": "code",
   "execution_count": 18,
   "id": "ffcce640",
   "metadata": {},
   "outputs": [
    {
     "data": {
      "text/html": [
       "<div>\n",
       "<style scoped>\n",
       "    .dataframe tbody tr th:only-of-type {\n",
       "        vertical-align: middle;\n",
       "    }\n",
       "\n",
       "    .dataframe tbody tr th {\n",
       "        vertical-align: top;\n",
       "    }\n",
       "\n",
       "    .dataframe thead th {\n",
       "        text-align: right;\n",
       "    }\n",
       "</style>\n",
       "<table border=\"1\" class=\"dataframe\">\n",
       "  <thead>\n",
       "    <tr style=\"text-align: right;\">\n",
       "      <th></th>\n",
       "      <th>lags</th>\n",
       "      <th>pct_correct_ADA</th>\n",
       "      <th>pct_correct_XMR</th>\n",
       "      <th>pct_correct_ETH</th>\n",
       "      <th>pct_correct_XBT</th>\n",
       "    </tr>\n",
       "  </thead>\n",
       "  <tbody>\n",
       "    <tr>\n",
       "      <th>0</th>\n",
       "      <td>1</td>\n",
       "      <td>0.500592</td>\n",
       "      <td>0.502959</td>\n",
       "      <td>0.527811</td>\n",
       "      <td>0.524260</td>\n",
       "    </tr>\n",
       "    <tr>\n",
       "      <th>1</th>\n",
       "      <td>2</td>\n",
       "      <td>0.514793</td>\n",
       "      <td>0.512426</td>\n",
       "      <td>0.534911</td>\n",
       "      <td>0.525444</td>\n",
       "    </tr>\n",
       "    <tr>\n",
       "      <th>2</th>\n",
       "      <td>7</td>\n",
       "      <td>0.484024</td>\n",
       "      <td>0.520710</td>\n",
       "      <td>0.507692</td>\n",
       "      <td>0.525444</td>\n",
       "    </tr>\n",
       "    <tr>\n",
       "      <th>3</th>\n",
       "      <td>14</td>\n",
       "      <td>0.492308</td>\n",
       "      <td>0.506509</td>\n",
       "      <td>0.500592</td>\n",
       "      <td>0.498225</td>\n",
       "    </tr>\n",
       "    <tr>\n",
       "      <th>4</th>\n",
       "      <td>30</td>\n",
       "      <td>0.502959</td>\n",
       "      <td>0.492308</td>\n",
       "      <td>0.510059</td>\n",
       "      <td>0.497041</td>\n",
       "    </tr>\n",
       "  </tbody>\n",
       "</table>\n",
       "</div>"
      ],
      "text/plain": [
       "   lags  pct_correct_ADA  pct_correct_XMR  pct_correct_ETH  pct_correct_XBT\n",
       "0     1         0.500592         0.502959         0.527811         0.524260\n",
       "1     2         0.514793         0.512426         0.534911         0.525444\n",
       "2     7         0.484024         0.520710         0.507692         0.525444\n",
       "3    14         0.492308         0.506509         0.500592         0.498225\n",
       "4    30         0.502959         0.492308         0.510059         0.497041"
      ]
     },
     "execution_count": 18,
     "metadata": {},
     "output_type": "execute_result"
    }
   ],
   "source": [
    "# Table of Proportion of Signs Predicted Correctly\n",
    "pd.DataFrame({\"lags\": [1,2,7,14,30], \"pct_correct_ADA\": vec_ar1_perf_ADA, \"pct_correct_XMR\": vec_ar1_perf_XMR, \"pct_correct_ETH\": vec_ar1_perf_ETH, \"pct_correct_XBT\": vec_ar1_perf_XBT})  "
   ]
  },
  {
   "cell_type": "code",
   "execution_count": 35,
   "id": "d42bfa77",
   "metadata": {},
   "outputs": [
    {
     "data": {
      "text/plain": [
       "<matplotlib.legend.Legend at 0x1ff102fd3d0>"
      ]
     },
     "execution_count": 35,
     "metadata": {},
     "output_type": "execute_result"
    },
    {
     "data": {
      "image/png": "[encoded data removed]",
      "text/plain": [
       "<Figure size 432x288 with 1 Axes>"
      ]
     },
     "metadata": {
      "needs_background": "light"
     },
     "output_type": "display_data"
    }
   ],
   "source": [
    "# Plot performance\n",
    "plt.plot([1,2,7,14,30], vec_ar1_perf_ADA, label = \"ADA\", color = \"blue\")\n",
    "plt.plot([1,2,7,14,30], vec_ar1_perf_XMR, label = \"XMR\", color = \"red\")\n",
    "plt.plot([1,2,7,14,30], vec_ar1_perf_ETH, label = \"ETH\", color = \"slategray\")\n",
    "plt.plot([1,2,7,14,30], vec_ar1_perf_XBT, label = \"XBT\", color = \"orange\")\n",
    "plt.title(\"VAR Model: Predictive Accuracy of Sign of Daily Log Difference of Price\")\n",
    "plt.ylim(0,1)\n",
    "plt.xlabel(\"Lags in VAR Model\")\n",
    "plt.ylabel(\"Proportion Correct\")\n",
    "plt.legend()"
   ]
  },
  {
   "cell_type": "code",
   "execution_count": 26,
   "id": "3568bc46",
   "metadata": {},
   "outputs": [
    {
     "data": {
      "text/plain": [
       "Text(0, 0.5, 'Frequency')"
      ]
     },
     "execution_count": 26,
     "metadata": {},
     "output_type": "execute_result"
    },
    {
     "data": {
      "image/png": "[encoded data removed]",
      "text/plain": [
       "<Figure size 432x288 with 1 Axes>"
      ]
     },
     "metadata": {
      "needs_background": "light"
     },
     "output_type": "display_data"
    }
   ],
   "source": [
    "# Histogram of Predicted Daily Log Difference Price Values for Cardano (ADA), Model with 1 Lag of Each Variable\n",
    "plt.hist(vec_ar1[0][\"pred_logdif_ADA\"])\n",
    "plt.title(\"Histogram of Predicted Daily Log Differenced Prices for Cardano (ADA)\")\n",
    "plt.xlabel(\"Prediction\")\n",
    "plt.ylabel(\"Frequency\")"
   ]
  },
  {
   "cell_type": "code",
   "execution_count": 27,
   "id": "1fef8ca2",
   "metadata": {},
   "outputs": [
    {
     "data": {
      "text/plain": [
       "Text(0, 0.5, 'Frequency')"
      ]
     },
     "execution_count": 27,
     "metadata": {},
     "output_type": "execute_result"
    },
    {
     "data": {
      "image/png": "[encoded data removed]",
      "text/plain": [
       "<Figure size 432x288 with 1 Axes>"
      ]
     },
     "metadata": {
      "needs_background": "light"
     },
     "output_type": "display_data"
    }
   ],
   "source": [
    "# Histogram of Predicted Daily Log Difference Price Values for Monero (XMR), Model with 1 Lag of Each Variable\n",
    "plt.hist(vec_ar1[0][\"pred_logdif_XMR\"])\n",
    "plt.title(\"Histogram of Predicted Daily Log Differenced Prices for Monero (XMR)\")\n",
    "plt.xlabel(\"Prediction\")\n",
    "plt.ylabel(\"Frequency\")"
   ]
  },
  {
   "cell_type": "markdown",
   "id": "9beb983c",
   "metadata": {},
   "source": [
    "----------------------------\n",
    "**Set 2:** The second set of vector autoregression models, which involves the weekly log differenced prices, performs slightly better than the first set of models. The models correctly predict the signs of the weekly log differenced prices between 54 and 65 percent of the time. Similar to the first set, the number of lags of each variable included in each model does not appear to make a substantial difference in the performance."
   ]
  },
  {
   "cell_type": "code",
   "execution_count": 5,
   "id": "fd886368",
   "metadata": {},
   "outputs": [],
   "source": [
    "# Vector autoregression models including weekly log differenced ADA, XMR, XBT, and ETH prices with 1, 2, 7, 14, and 30 lags\n",
    "vec_ar2 = []\n",
    "vec_ar2_perf_ADA = []\n",
    "vec_ar2_perf_XMR = []\n",
    "vec_ar2_perf_ETH = []\n",
    "vec_ar2_perf_XBT = []\n",
    "counter = 0\n",
    "for i in [1,2,7,14,30]:\n",
    "    vec_ar2 = vec_ar2 + [vec_ar([\"logdif7_ADA\", \"logdif7_XMR\", \"logdif7_XBT\", \"logdif7_ETH\"], i, [\"logdif7_ADA\", \"logdif7_XMR\", \"logdif7_XBT\", \"logdif7_ETH\"])]\n",
    "    vec_ar2_perf_ADA = vec_ar2_perf_ADA + [(vec_ar2[counter][\"same_sign_logdif7_ADA\"] == 1).sum() / vec_ar2[0].shape[0]]\n",
    "    vec_ar2_perf_XMR = vec_ar2_perf_XMR + [(vec_ar2[counter][\"same_sign_logdif7_XMR\"] == 1).sum() / vec_ar2[0].shape[0]]\n",
    "    vec_ar2_perf_ETH = vec_ar2_perf_ETH + [(vec_ar2[counter][\"same_sign_logdif7_ETH\"] == 1).sum() / vec_ar2[0].shape[0]]\n",
    "    vec_ar2_perf_XBT = vec_ar2_perf_XBT + [(vec_ar2[counter][\"same_sign_logdif7_XBT\"] == 1).sum() / vec_ar2[0].shape[0]]    \n",
    "    counter = counter + 1"
   ]
  },
  {
   "cell_type": "code",
   "execution_count": 6,
   "id": "d59d593a",
   "metadata": {},
   "outputs": [
    {
     "data": {
      "text/html": [
       "<div>\n",
       "<style scoped>\n",
       "    .dataframe tbody tr th:only-of-type {\n",
       "        vertical-align: middle;\n",
       "    }\n",
       "\n",
       "    .dataframe tbody tr th {\n",
       "        vertical-align: top;\n",
       "    }\n",
       "\n",
       "    .dataframe thead th {\n",
       "        text-align: right;\n",
       "    }\n",
       "</style>\n",
       "<table border=\"1\" class=\"dataframe\">\n",
       "  <thead>\n",
       "    <tr style=\"text-align: right;\">\n",
       "      <th></th>\n",
       "      <th>lags</th>\n",
       "      <th>pct_correct_ADA</th>\n",
       "      <th>pct_correct_XMR</th>\n",
       "      <th>pct_correct_ETH</th>\n",
       "      <th>pct_correct_XBT</th>\n",
       "    </tr>\n",
       "  </thead>\n",
       "  <tbody>\n",
       "    <tr>\n",
       "      <th>0</th>\n",
       "      <td>1</td>\n",
       "      <td>0.593750</td>\n",
       "      <td>0.545673</td>\n",
       "      <td>0.585337</td>\n",
       "      <td>0.574519</td>\n",
       "    </tr>\n",
       "    <tr>\n",
       "      <th>1</th>\n",
       "      <td>2</td>\n",
       "      <td>0.579327</td>\n",
       "      <td>0.548077</td>\n",
       "      <td>0.593750</td>\n",
       "      <td>0.576923</td>\n",
       "    </tr>\n",
       "    <tr>\n",
       "      <th>2</th>\n",
       "      <td>7</td>\n",
       "      <td>0.579327</td>\n",
       "      <td>0.566106</td>\n",
       "      <td>0.544471</td>\n",
       "      <td>0.586538</td>\n",
       "    </tr>\n",
       "    <tr>\n",
       "      <th>3</th>\n",
       "      <td>14</td>\n",
       "      <td>0.587740</td>\n",
       "      <td>0.602163</td>\n",
       "      <td>0.608173</td>\n",
       "      <td>0.604567</td>\n",
       "    </tr>\n",
       "    <tr>\n",
       "      <th>4</th>\n",
       "      <td>30</td>\n",
       "      <td>0.608173</td>\n",
       "      <td>0.596154</td>\n",
       "      <td>0.582933</td>\n",
       "      <td>0.644231</td>\n",
       "    </tr>\n",
       "  </tbody>\n",
       "</table>\n",
       "</div>"
      ],
      "text/plain": [
       "   lags  pct_correct_ADA  pct_correct_XMR  pct_correct_ETH  pct_correct_XBT\n",
       "0     1         0.593750         0.545673         0.585337         0.574519\n",
       "1     2         0.579327         0.548077         0.593750         0.576923\n",
       "2     7         0.579327         0.566106         0.544471         0.586538\n",
       "3    14         0.587740         0.602163         0.608173         0.604567\n",
       "4    30         0.608173         0.596154         0.582933         0.644231"
      ]
     },
     "execution_count": 6,
     "metadata": {},
     "output_type": "execute_result"
    }
   ],
   "source": [
    "# Table of Proportion of Signs Predicted Correctly\n",
    "pd.DataFrame({\"lags\": [1,2,7,14,30], \"pct_correct_ADA\": vec_ar2_perf_ADA, \"pct_correct_XMR\": vec_ar2_perf_XMR, \"pct_correct_ETH\": vec_ar2_perf_ETH, \"pct_correct_XBT\": vec_ar2_perf_XBT})  "
   ]
  },
  {
   "cell_type": "code",
   "execution_count": 29,
   "id": "486f27db",
   "metadata": {},
   "outputs": [
    {
     "data": {
      "text/plain": [
       "<matplotlib.legend.Legend at 0x1ff1005df10>"
      ]
     },
     "execution_count": 29,
     "metadata": {},
     "output_type": "execute_result"
    },
    {
     "data": {
      "image/png": "[encoded data removed]",
      "text/plain": [
       "<Figure size 432x288 with 1 Axes>"
      ]
     },
     "metadata": {
      "needs_background": "light"
     },
     "output_type": "display_data"
    }
   ],
   "source": [
    "# Plot performance\n",
    "plt.plot([1,2,7,14,30], vec_ar2_perf_ADA, label = \"ADA\", color = \"blue\")\n",
    "plt.plot([1,2,7,14,30], vec_ar2_perf_XMR, label = \"XMR\", color = \"red\")\n",
    "plt.plot([1,2,7,14,30], vec_ar2_perf_ETH, label = \"ETH\", color = \"slategray\")\n",
    "plt.plot([1,2,7,14,30], vec_ar2_perf_XBT, label = \"XBT\", color = \"orange\")\n",
    "plt.title(\"VAR Model: Predictive Accuracy of Sign of Weekly Log Difference of Price\")\n",
    "plt.ylim(0,1)\n",
    "plt.xlabel(\"Lags in VAR Model\")\n",
    "plt.ylabel(\"Proportion Correct\")\n",
    "plt.legend()"
   ]
  },
  {
   "cell_type": "markdown",
   "id": "48abf9b7",
   "metadata": {},
   "source": [
    "--------------------\n",
    "**Set 3:** The third set of vector autoregression models involved the biweekly log differenced prices. These models perform better that the models in the first two sets. The predictive accuracy of the models in set 3 range from 66 to 74 percent. Similar to sets 1 and 2, the number of lags of each variable included in the vector autoregression only results in small changes in predictive performance."
   ]
  },
  {
   "cell_type": "code",
   "execution_count": 9,
   "id": "eb658c54",
   "metadata": {},
   "outputs": [],
   "source": [
    "# Vector autoregression models including biweekly log differenced ADA, XMR, XBT, and ETH prices with 1, 2, 7, 14, and 30 lags\n",
    "vec_ar3 = []\n",
    "vec_ar3_perf_ADA = []\n",
    "vec_ar3_perf_XMR = []\n",
    "vec_ar3_perf_ETH = []\n",
    "vec_ar3_perf_XBT = []\n",
    "counter = 0\n",
    "for i in [1,2,7,14,30]:\n",
    "    vec_ar3 = vec_ar3 + [vec_ar([\"logdif14_ADA\", \"logdif14_XMR\", \"logdif14_XBT\", \"logdif14_ETH\"], i, [\"logdif14_ADA\", \"logdif14_XMR\", \"logdif14_XBT\", \"logdif14_ETH\"])]\n",
    "    vec_ar3_perf_ADA = vec_ar3_perf_ADA + [(vec_ar3[counter][\"same_sign_logdif14_ADA\"] == 1).sum() / vec_ar3[0].shape[0]]\n",
    "    vec_ar3_perf_XMR = vec_ar3_perf_XMR + [(vec_ar3[counter][\"same_sign_logdif14_XMR\"] == 1).sum() / vec_ar3[0].shape[0]]\n",
    "    vec_ar3_perf_ETH = vec_ar3_perf_ETH + [(vec_ar3[counter][\"same_sign_logdif14_ETH\"] == 1).sum() / vec_ar3[0].shape[0]]\n",
    "    vec_ar3_perf_XBT = vec_ar3_perf_XBT + [(vec_ar3[counter][\"same_sign_logdif14_XBT\"] == 1).sum() / vec_ar3[0].shape[0]]    \n",
    "    counter = counter + 1"
   ]
  },
  {
   "cell_type": "code",
   "execution_count": 10,
   "id": "2d09b9db",
   "metadata": {},
   "outputs": [
    {
     "data": {
      "text/html": [
       "<div>\n",
       "<style scoped>\n",
       "    .dataframe tbody tr th:only-of-type {\n",
       "        vertical-align: middle;\n",
       "    }\n",
       "\n",
       "    .dataframe tbody tr th {\n",
       "        vertical-align: top;\n",
       "    }\n",
       "\n",
       "    .dataframe thead th {\n",
       "        text-align: right;\n",
       "    }\n",
       "</style>\n",
       "<table border=\"1\" class=\"dataframe\">\n",
       "  <thead>\n",
       "    <tr style=\"text-align: right;\">\n",
       "      <th></th>\n",
       "      <th>lags</th>\n",
       "      <th>pct_correct_ADA</th>\n",
       "      <th>pct_correct_XMR</th>\n",
       "      <th>pct_correct_ETH</th>\n",
       "      <th>pct_correct_XBT</th>\n",
       "    </tr>\n",
       "  </thead>\n",
       "  <tbody>\n",
       "    <tr>\n",
       "      <th>0</th>\n",
       "      <td>1</td>\n",
       "      <td>0.729567</td>\n",
       "      <td>0.687500</td>\n",
       "      <td>0.679087</td>\n",
       "      <td>0.704327</td>\n",
       "    </tr>\n",
       "    <tr>\n",
       "      <th>1</th>\n",
       "      <td>2</td>\n",
       "      <td>0.729567</td>\n",
       "      <td>0.700721</td>\n",
       "      <td>0.686298</td>\n",
       "      <td>0.719952</td>\n",
       "    </tr>\n",
       "    <tr>\n",
       "      <th>2</th>\n",
       "      <td>7</td>\n",
       "      <td>0.698317</td>\n",
       "      <td>0.737981</td>\n",
       "      <td>0.670673</td>\n",
       "      <td>0.715144</td>\n",
       "    </tr>\n",
       "    <tr>\n",
       "      <th>3</th>\n",
       "      <td>14</td>\n",
       "      <td>0.669471</td>\n",
       "      <td>0.736779</td>\n",
       "      <td>0.686298</td>\n",
       "      <td>0.736779</td>\n",
       "    </tr>\n",
       "    <tr>\n",
       "      <th>4</th>\n",
       "      <td>30</td>\n",
       "      <td>0.670673</td>\n",
       "      <td>0.683894</td>\n",
       "      <td>0.669471</td>\n",
       "      <td>0.725962</td>\n",
       "    </tr>\n",
       "  </tbody>\n",
       "</table>\n",
       "</div>"
      ],
      "text/plain": [
       "   lags  pct_correct_ADA  pct_correct_XMR  pct_correct_ETH  pct_correct_XBT\n",
       "0     1         0.729567         0.687500         0.679087         0.704327\n",
       "1     2         0.729567         0.700721         0.686298         0.719952\n",
       "2     7         0.698317         0.737981         0.670673         0.715144\n",
       "3    14         0.669471         0.736779         0.686298         0.736779\n",
       "4    30         0.670673         0.683894         0.669471         0.725962"
      ]
     },
     "execution_count": 10,
     "metadata": {},
     "output_type": "execute_result"
    }
   ],
   "source": [
    "# Table of Proportion of Signs Predicted Correctly\n",
    "pd.DataFrame({\"lags\": [1,2,7,14,30], \"pct_correct_ADA\": vec_ar3_perf_ADA, \"pct_correct_XMR\": vec_ar3_perf_XMR, \"pct_correct_ETH\": vec_ar3_perf_ETH, \"pct_correct_XBT\": vec_ar3_perf_XBT})  "
   ]
  },
  {
   "cell_type": "code",
   "execution_count": 34,
   "id": "40b94e82",
   "metadata": {},
   "outputs": [
    {
     "data": {
      "text/plain": [
       "<matplotlib.legend.Legend at 0x1ff0a9d9f10>"
      ]
     },
     "execution_count": 34,
     "metadata": {},
     "output_type": "execute_result"
    },
    {
     "data": {
      "image/png": "[encoded data removed]",
      "text/plain": [
       "<Figure size 432x288 with 1 Axes>"
      ]
     },
     "metadata": {
      "needs_background": "light"
     },
     "output_type": "display_data"
    }
   ],
   "source": [
    "# Plot performance\n",
    "plt.plot([1,2,7,14,30], vec_ar3_perf_ADA, label = \"ADA\", color = \"blue\")\n",
    "plt.plot([1,2,7,14,30], vec_ar3_perf_XMR, label = \"XMR\", color = \"red\")\n",
    "plt.plot([1,2,7,14,30], vec_ar3_perf_ETH, label = \"ETH\", color = \"slategray\")\n",
    "plt.plot([1,2,7,14,30], vec_ar3_perf_XBT, label = \"XBT\", color = \"orange\")\n",
    "plt.title(\"VAR Model: Predictive Accuracy of Sign of Biweekly Log Difference of Price\")\n",
    "plt.ylim(0,1)\n",
    "plt.xlabel(\"Lags in VAR Model\")\n",
    "plt.ylabel(\"Proportion Correct\")\n",
    "plt.legend()"
   ]
  },
  {
   "cell_type": "markdown",
   "id": "1e7b40d5",
   "metadata": {},
   "source": [
    "**Ideas for Further Analysis**  \n",
    "- Using training set of fixed size instead of all observations prior to test set\n",
    "- Additional performance metrics involving magnitude of price change in addition to sign to quantify profitability of a trading strategy that is based on the model's predictions.\n",
    "- Test monthly log difference or other variations of log differenced price"
   ]
  },
  {
   "cell_type": "code",
   "execution_count": null,
   "id": "5088f153",
   "metadata": {},
   "outputs": [],
   "source": []
  }
 ],
 "metadata": {
  "kernelspec": {
   "display_name": "Python 3",
   "language": "python",
   "name": "python3"
  },
  "language_info": {
   "codemirror_mode": {
    "name": "ipython",
    "version": 3
   },
   "file_extension": ".py",
   "mimetype": "text/x-python",
   "name": "python",
   "nbconvert_exporter": "python",
   "pygments_lexer": "ipython3",
   "version": "3.8.3"
  }
 },
 "nbformat": 4,
 "nbformat_minor": 5
}
