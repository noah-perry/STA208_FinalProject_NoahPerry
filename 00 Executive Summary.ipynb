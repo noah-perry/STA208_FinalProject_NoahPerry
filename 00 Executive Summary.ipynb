{
 "cells": [
  {
   "cell_type": "markdown",
   "id": "77f3c4e4",
   "metadata": {},
   "source": [
    "## Predictive Modeling of Cryptocurrency Prices\n",
    "STA 208 - Spring 2021  \n",
    "Group: Noah Perry"
   ]
  },
  {
   "cell_type": "markdown",
   "id": "4ee7d16b",
   "metadata": {},
   "source": [
    "**Executive Summary**  \n",
    "Kraken, a major US-based cryptocurrency exchange, releases historical price data in CSV format for all cryptocurrencies listed on their exchange on a quarterly basis. I compared the predictive performance of vector autoregressions and random forests for forecasting cryptocurrency prices in USD. \n",
    "\n",
    "To evaluate the performance of the models, I calculated the proportion of times the sign of the predicted log differenced price matches the sign of the actual log differenced price. This simplistic metric was chosen because it is tied to the use case of an individual who is interested in investing in the cryptocurrency market in a systematic way and intends to make a small number of trades each week (as opposed to long-term investing or intraday trading). A model that can effectively predict the direction of a future movement in price can help an investor decide what to do (buy, sell, short sell, etc.).\n",
    "\n",
    "The four cryptocurrencies included in my analysis are listed below alongside the ticker symbols used by Kraken, which will be used in my code throughout:\n",
    "- Bitcoin (XBT)\n",
    "- Ethereum (ETH)\n",
    "- Cardano (ADA)\n",
    "- Monero (XMR)\n",
    "\n",
    "Since Bitcoin and Ethereum are the two most dominant coins in the cryptocurrency market, the price movements of other cryptocurrencies tend to follow the price movements of these leader coins. As a result, my primary focus is to construct models that can effectively predict the price movements of Cardano and Monero, two smaller but well-established cryptocurrencies. \n",
    "\n",
    "I test three different kinds of target variables:\n",
    "- Daily log difference of price: $log(Y_t) - log(Y_{t-1})$\n",
    "- Weekly log difference of price: $log(Y_t) - log(Y_{t-7})$\n",
    "- Biweekly log difference of price: $log(Y_t) - log(Y_{t-14})$\n",
    "\n",
    "The models including the daily log difference of price perform quite poorly, correctly predicting the sign of Cardano and Monero price movements only around 50 percent of the time. This is essentially equivalent to randomly guessing the direction of a future price movements by flipping a coin.\n",
    "\n",
    "For models including the weekly log difference of price, the vector autoregressions correctly predict the sign of Cardano price movements between 57 to 61 percent of the time and Monero price movements between 54 and 61 percent of the time, depending on the exact model specification. The random forest regressions perform much better, correctly predicting the sign of Cardano and Monero price movements 81 and 80 percent of the time, respectively.\n",
    "\n",
    "The models including biweekly log difference of price perform best. The vector autoregressions correctly predict the sign of Cardano price movements between 66 and 73 percent of the time and Monero price movements between 68 and 74 percent of the time. The random forest regressions correctly predict the sign of both Cardano and Monero price movements approximately 87 percent of the time. "
   ]
  }
 ],
 "metadata": {
  "kernelspec": {
   "display_name": "Python 3",
   "language": "python",
   "name": "python3"
  },
  "language_info": {
   "codemirror_mode": {
    "name": "ipython",
    "version": 3
   },
   "file_extension": ".py",
   "mimetype": "text/x-python",
   "name": "python",
   "nbconvert_exporter": "python",
   "pygments_lexer": "ipython3",
   "version": "3.8.3"
  }
 },
 "nbformat": 4,
 "nbformat_minor": 5
}
